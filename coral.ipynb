{
 "cells": [
  {
   "cell_type": "code",
   "execution_count": null,
   "metadata": {},
   "outputs": [],
   "source": []
  },
  {
   "cell_type": "code",
   "execution_count": 0,
   "metadata": {
    "colab": {},
    "colab_type": "code",
    "id": "rJ9Fs8uWC2wN"
   },
   "outputs": [],
   "source": [
    "from keras.preprocessing.image import ImageDataGenerator\n",
    "from PIL import Image\n",
    "from keras.models import Sequential\n",
    "from keras.layers import Activation\n",
    "from keras.layers.core import Dense, Flatten\n",
    "from keras.layers import Conv2D , MaxPooling2D ,Conv2DTranspose\n",
    "import matplotlib.pyplot as plt\n",
    "from PIL import Image\n",
    "import numpy as np\n",
    "import glob\n",
    "import keras.backend as K\n",
    "from keras import optimizers\n",
    "from keras.callbacks import ModelCheckpoint\n",
    "import keras.initializers as ini\n",
    "import keras.applications.vgg19 as vgg\n",
    "import tensorflow as tf\n",
    "from keras.models import load_model"
   ]
  },
  {
   "cell_type": "code",
   "execution_count": 0,
   "metadata": {
    "colab": {
     "base_uri": "https://localhost:8080/",
     "height": 141
    },
    "colab_type": "code",
    "executionInfo": {
     "elapsed": 52807,
     "status": "ok",
     "timestamp": 1567589668541,
     "user": {
      "displayName": "Omar Elkassar",
      "photoUrl": "",
      "userId": "10907009449006292917"
     },
     "user_tz": -120
    },
    "id": "zuHOZu2nCmH_",
    "outputId": "41e13a03-3dcf-45ac-cded-1af007edb380"
   },
   "outputs": [
    {
     "name": "stdout",
     "output_type": "stream",
     "text": [
      "Go to this URL in a browser: https://accounts.google.com/o/oauth2/auth?client_id=947318989803-6bn6qk8qdgf4n4g3pfee6491hc0brc4i.apps.googleusercontent.com&redirect_uri=urn%3Aietf%3Awg%3Aoauth%3A2.0%3Aoob&scope=email%20https%3A%2F%2Fwww.googleapis.com%2Fauth%2Fdocs.test%20https%3A%2F%2Fwww.googleapis.com%2Fauth%2Fdrive%20https%3A%2F%2Fwww.googleapis.com%2Fauth%2Fdrive.photos.readonly%20https%3A%2F%2Fwww.googleapis.com%2Fauth%2Fpeopleapi.readonly&response_type=code\n",
      "\n",
      "Enter your authorization code:\n",
      "··········\n",
      "Mounted at /gdrive\n",
      "/gdrive\n"
     ]
    }
   ],
   "source": [
    "from google.colab import drive\n",
    "drive.mount('/gdrive')\n",
    "%cd /gdrive\n"
   ]
  },
  {
   "cell_type": "code",
   "execution_count": 0,
   "metadata": {
    "colab": {
     "base_uri": "https://localhost:8080/",
     "height": 52
    },
    "colab_type": "code",
    "executionInfo": {
     "elapsed": 32259,
     "status": "ok",
     "timestamp": 1567589677561,
     "user": {
      "displayName": "Omar Elkassar",
      "photoUrl": "",
      "userId": "10907009449006292917"
     },
     "user_tz": -120
    },
    "id": "IIwRVjdsMs07",
    "outputId": "f27d603e-ffb3-4bd1-d124-b2b25270cbcf"
   },
   "outputs": [
    {
     "name": "stdout",
     "output_type": "stream",
     "text": [
      "Found 4685 images belonging to 8 classes.\n",
      "Found 2005 images belonging to 8 classes.\n"
     ]
    }
   ],
   "source": [
    "gen = ImageDataGenerator(preprocessing_function=lambda x : x/255.0 , validation_split = 0.3)\n",
    "train=gen.flow_from_directory(directory = \"/gdrive/My Drive/scoly_224\",batch_size=100,target_size=(224,224),color_mode='rgb',class_mode='categorical' , shuffle = True, subset=\"training\")\n",
    "valid=gen.flow_from_directory(directory = \"/gdrive/My Drive/scoly_224\",batch_size=100,target_size=(224,224),color_mode='rgb',class_mode='categorical' , shuffle = True, subset=\"validation\")\n"
   ]
  },
  {
   "cell_type": "code",
   "execution_count": 0,
   "metadata": {
    "colab": {},
    "colab_type": "code",
    "id": "wyGJWqT3phB1"
   },
   "outputs": [],
   "source": [
    " i = 0\n",
    " x_test = np.empty([1,224,224,3],  dtype='uint8')\n",
    " for filename_x in sorted (glob.glob('/gdrive/My Drive/scoly_244/*')): #assuming gif\n",
    "        im=Image.open(filename_x)\n",
    "        im1 = im.resize((224,224))\n",
    "        im1 = np.array(im1.getdata() ,  dtype='uint8').reshape((224,224,3))\n",
    "        im1 = np.expand_dims(im1,axis=0)\n",
    "        if i == 0 :\n",
    "          x_test = im1\n",
    "          i = 1\n",
    "        else :\n",
    "          x_test = np.append(x_test,im1,axis=0)"
   ]
  },
  {
   "cell_type": "code",
   "execution_count": 0,
   "metadata": {
    "colab": {},
    "colab_type": "code",
    "id": "_inmZbFI0dR4"
   },
   "outputs": [],
   "source": [
    "x_test,y = next(train)"
   ]
  },
  {
   "cell_type": "code",
   "execution_count": 0,
   "metadata": {
    "colab": {
     "base_uri": "https://localhost:8080/",
     "height": 867
    },
    "colab_type": "code",
    "executionInfo": {
     "elapsed": 581,
     "status": "ok",
     "timestamp": 1566938893862,
     "user": {
      "displayName": "Omar Elkassar",
      "photoUrl": "",
      "userId": "10907009449006292917"
     },
     "user_tz": -120
    },
    "id": "JBD6RgG61eMl",
    "outputId": "ddfa298a-bd0d-4bec-a940-b6c83282244f"
   },
   "outputs": [
    {
     "name": "stdout",
     "output_type": "stream",
     "text": [
      "[[[0.32156864 0.24313726 0.20784314]\n",
      "  [0.30588236 0.23529412 0.19607843]\n",
      "  [0.28627452 0.21568628 0.16862746]\n",
      "  ...\n",
      "  [0.07450981 0.07843138 0.00784314]\n",
      "  [0.13333334 0.12941177 0.05882353]\n",
      "  [0.23137255 0.22745098 0.15686275]]\n",
      "\n",
      " [[0.29411766 0.21568628 0.18039216]\n",
      "  [0.29803923 0.22745098 0.1882353 ]\n",
      "  [0.30588236 0.23529412 0.19607843]\n",
      "  ...\n",
      "  [0.08235294 0.08627451 0.01568628]\n",
      "  [0.16078432 0.15686275 0.08627451]\n",
      "  [0.2627451  0.25490198 0.19607843]]\n",
      "\n",
      " [[0.2784314  0.20784314 0.16862746]\n",
      "  [0.2901961  0.21960784 0.18039216]\n",
      "  [0.30588236 0.23529412 0.19607843]\n",
      "  ...\n",
      "  [0.10196079 0.10588235 0.03529412]\n",
      "  [0.20392157 0.19607843 0.13725491]\n",
      "  [0.30980393 0.3019608  0.24313726]]\n",
      "\n",
      " ...\n",
      "\n",
      " [[0.5764706  0.6509804  0.57254905]\n",
      "  [0.4509804  0.5254902  0.44705883]\n",
      "  [0.5529412  0.627451   0.5411765 ]\n",
      "  ...\n",
      "  [0.30980393 0.32941177 0.21176471]\n",
      "  [0.29803923 0.31764707 0.2       ]\n",
      "  [0.13725491 0.16470589 0.04313726]]\n",
      "\n",
      " [[0.50980395 0.59607846 0.5137255 ]\n",
      "  [0.4627451  0.54901963 0.45882353]\n",
      "  [0.49411765 0.5803922  0.49019608]\n",
      "  ...\n",
      "  [0.29803923 0.31764707 0.2       ]\n",
      "  [0.40784314 0.42745098 0.3019608 ]\n",
      "  [0.24705882 0.27450982 0.14509805]]\n",
      "\n",
      " [[0.4745098  0.56078434 0.47843137]\n",
      "  [0.5058824  0.5921569  0.5019608 ]\n",
      "  [0.42745098 0.5137255  0.42352942]\n",
      "  ...\n",
      "  [0.33333334 0.3529412  0.22745098]\n",
      "  [0.5058824  0.5254902  0.4       ]\n",
      "  [0.34117648 0.36078432 0.23529412]]]\n"
     ]
    }
   ],
   "source": [
    "print (x_test[0])"
   ]
  },
  {
   "cell_type": "code",
   "execution_count": 0,
   "metadata": {
    "colab": {
     "base_uri": "https://localhost:8080/",
     "height": 287
    },
    "colab_type": "code",
    "executionInfo": {
     "elapsed": 2281,
     "status": "ok",
     "timestamp": 1566938863369,
     "user": {
      "displayName": "Omar Elkassar",
      "photoUrl": "",
      "userId": "10907009449006292917"
     },
     "user_tz": -120
    },
    "id": "VOB1fUPwqWrU",
    "outputId": "ea96b4bd-0497-429e-a782-61ece48aac5b"
   },
   "outputs": [
    {
     "name": "stdout",
     "output_type": "stream",
     "text": [
      "Imagen reconstruida:\n"
     ]
    },
    {
     "data": {
      "image/png": "[encoded data removed]",
      "text/plain": [
       "<Figure size 432x288 with 1 Axes>"
      ]
     },
     "metadata": {
      "tags": []
     },
     "output_type": "display_data"
    }
   ],
   "source": [
    "print(\"Imagen reconstruida:\")\n",
    "plt.imshow(x_test[1])\n",
    "plt.show()\n"
   ]
  },
  {
   "cell_type": "code",
   "execution_count": 0,
   "metadata": {
    "colab": {
     "base_uri": "https://localhost:8080/",
     "height": 35
    },
    "colab_type": "code",
    "executionInfo": {
     "elapsed": 713,
     "status": "ok",
     "timestamp": 1566038907320,
     "user": {
      "displayName": "Omar Elkassar",
      "photoUrl": "",
      "userId": "10907009449006292917"
     },
     "user_tz": -120
    },
    "id": "M07jSYInHs8s",
    "outputId": "35d3e7a8-e20c-461e-ab5d-3f1fedf295df"
   },
   "outputs": [
    {
     "name": "stdout",
     "output_type": "stream",
     "text": [
      "[0. 1. 0. 0. 0. 0. 0. 0.]\n"
     ]
    }
   ],
   "source": [
    "#x,y = next(valid)\n",
    "print (y[1])"
   ]
  },
  {
   "cell_type": "code",
   "execution_count": 0,
   "metadata": {
    "colab": {
     "base_uri": "https://localhost:8080/",
     "height": 1000
    },
    "colab_type": "code",
    "executionInfo": {
     "elapsed": 1021,
     "status": "ok",
     "timestamp": 1566037525489,
     "user": {
      "displayName": "Omar Elkassar",
      "photoUrl": "",
      "userId": "10907009449006292917"
     },
     "user_tz": -120
    },
    "id": "--L5rkwm4YXb",
    "outputId": "12861f58-ff4f-42e8-c609-f55542ce86e1"
   },
   "outputs": [
    {
     "data": {
      "text/plain": [
       "['ufo/310_0_5333.jpg',\n",
       " 'ufo/311_0_1717.jpg',\n",
       " 'ufo/312_0_7676.jpg',\n",
       " 'ufo/313_0_5580.jpg',\n",
       " 'ufo/314_0_1995.jpg',\n",
       " 'ufo/315_0_159.jpg',\n",
       " 'ufo/316_0_3209.jpg',\n",
       " 'ufo/317_0_4283.jpg',\n",
       " 'ufo/318_0_6774.jpg',\n",
       " 'ufo/319_0_8630.jpg',\n",
       " 'ufo/31_0_1969.jpg',\n",
       " 'ufo/320_0_7466.jpg',\n",
       " 'ufo/321_0_1118.jpg',\n",
       " 'ufo/322_0_4060.jpg',\n",
       " 'ufo/323_0_4063.jpg',\n",
       " 'ufo/324_0_7468.jpg',\n",
       " 'ufo/325_0_1995.jpg',\n",
       " 'ufo/326_0_2070.jpg',\n",
       " 'ufo/327_0_2348.jpg',\n",
       " 'ufo/328_0_7231.jpg',\n",
       " 'ufo/329_0_5772.jpg',\n",
       " 'ufo/32_0_9559.jpg',\n",
       " 'ufo/330_0_5613.jpg',\n",
       " 'ufo/331_0_4168.jpg',\n",
       " 'ufo/332_0_8405.jpg',\n",
       " 'ufo/333_0_5807.jpg',\n",
       " 'ufo/334_0_4946.jpg',\n",
       " 'warpaint/0_0_3327.jpg',\n",
       " 'warpaint/100_0_7134.jpg',\n",
       " 'warpaint/101_0_721.jpg',\n",
       " 'warpaint/102_0_4934.jpg',\n",
       " 'warpaint/103_0_3297.jpg',\n",
       " 'warpaint/104_0_1160.jpg',\n",
       " 'warpaint/105_0_4551.jpg',\n",
       " 'warpaint/106_0_7053.jpg',\n",
       " 'warpaint/107_0_3877.jpg',\n",
       " 'warpaint/108_0_1583.jpg',\n",
       " 'warpaint/109_0_2812.jpg',\n",
       " 'warpaint/10_0_1386.jpg',\n",
       " 'warpaint/110_0_866.jpg',\n",
       " 'warpaint/111_0_3304.jpg',\n",
       " 'warpaint/112_0_4661.jpg',\n",
       " 'warpaint/113_0_3273.jpg',\n",
       " 'warpaint/114_0_1762.jpg',\n",
       " 'warpaint/115_0_7582.jpg',\n",
       " 'warpaint/116_0_3353.jpg',\n",
       " 'warpaint/117_0_5811.jpg',\n",
       " 'warpaint/118_0_2813.jpg',\n",
       " 'warpaint/119_0_4402.jpg',\n",
       " 'warpaint/11_0_5984.jpg',\n",
       " 'warpaint/120_0_4555.jpg',\n",
       " 'warpaint/121_0_9013.jpg',\n",
       " 'warpaint/122_0_9394.jpg',\n",
       " 'warpaint/123_0_2050.jpg',\n",
       " 'warpaint/124_0_6779.jpg',\n",
       " 'warpaint/125_0_733.jpg',\n",
       " 'warpaint/126_0_9101.jpg',\n",
       " 'warpaint/127_0_7226.jpg',\n",
       " 'warpaint/128_0_9587.jpg',\n",
       " 'warpaint/129_0_3289.jpg',\n",
       " 'warpaint/12_0_3324.jpg',\n",
       " 'warpaint/130_0_4848.jpg',\n",
       " 'warpaint/131_0_7398.jpg',\n",
       " 'warpaint/132_0_412.jpg',\n",
       " 'warpaint/133_0_9706.jpg',\n",
       " 'warpaint/134_0_3716.jpg',\n",
       " 'warpaint/135_0_7087.jpg',\n",
       " 'warpaint/136_0_6292.jpg',\n",
       " 'warpaint/137_0_3072.jpg',\n",
       " 'warpaint/138_0_3906.jpg',\n",
       " 'warpaint/139_0_5151.jpg',\n",
       " 'warpaint/13_0_9696.jpg',\n",
       " 'warpaint/140_0_1763.jpg',\n",
       " 'warpaint/141_0_3237.jpg',\n",
       " 'warpaint/142_0_5211.jpg',\n",
       " 'warpaint/143_0_8531.jpg',\n",
       " 'warpaint/144_0_5329.jpg',\n",
       " 'warpaint/145_0_7324.jpg',\n",
       " 'warpaint/146_0_6462.jpg',\n",
       " 'warpaint/147_0_1849.jpg',\n",
       " 'warpaint/148_0_301.jpg',\n",
       " 'warpaint/149_0_4334.jpg',\n",
       " 'warpaint/14_0_6276.jpg',\n",
       " 'warpaint/150_0_7214.jpg',\n",
       " 'warpaint/151_0_1656.jpg',\n",
       " 'warpaint/152_0_1903.jpg',\n",
       " 'warpaint/153_0_8722.jpg',\n",
       " 'warpaint/154_0_8120.jpg',\n",
       " 'warpaint/155_0_1929.jpg',\n",
       " 'warpaint/156_0_5826.jpg',\n",
       " 'warpaint/157_0_4705.jpg',\n",
       " 'warpaint/158_0_1905.jpg',\n",
       " 'warpaint/159_0_7088.jpg',\n",
       " 'warpaint/15_0_6824.jpg',\n",
       " 'warpaint/160_0_4565.jpg',\n",
       " 'warpaint/161_0_9023.jpg',\n",
       " 'warpaint/162_0_4057.jpg',\n",
       " 'warpaint/163_0_13.jpg',\n",
       " 'warpaint/164_0_2599.jpg',\n",
       " 'warpaint/165_0_5218.jpg',\n",
       " 'warpaint/166_0_4043.jpg',\n",
       " 'warpaint/167_0_9300.jpg',\n",
       " 'warpaint/168_0_3479.jpg',\n",
       " 'warpaint/169_0_8556.jpg',\n",
       " 'warpaint/16_0_3329.jpg',\n",
       " 'warpaint/170_0_2364.jpg',\n",
       " 'warpaint/171_0_9735.jpg',\n",
       " 'warpaint/172_0_3252.jpg',\n",
       " 'warpaint/173_0_7952.jpg',\n",
       " 'warpaint/174_0_4967.jpg',\n",
       " 'warpaint/175_0_8420.jpg',\n",
       " 'warpaint/176_0_5775.jpg',\n",
       " 'warpaint/177_0_1157.jpg',\n",
       " 'warpaint/178_0_8768.jpg',\n",
       " 'warpaint/179_0_1416.jpg',\n",
       " 'warpaint/17_0_3889.jpg',\n",
       " 'warpaint/180_0_4141.jpg',\n",
       " 'warpaint/181_0_4751.jpg',\n",
       " 'warpaint/182_0_8195.jpg',\n",
       " 'warpaint/183_0_5732.jpg',\n",
       " 'warpaint/184_0_5431.jpg',\n",
       " 'warpaint/185_0_4869.jpg',\n",
       " 'warpaint/186_0_6190.jpg',\n",
       " 'warpaint/187_0_8472.jpg',\n",
       " 'warpaint/188_0_8195.jpg',\n",
       " 'warpaint/189_0_1997.jpg',\n",
       " 'warpaint/18_0_4968.jpg',\n",
       " 'warpaint/190_0_2174.jpg',\n",
       " 'warpaint/191_0_9905.jpg',\n",
       " 'warpaint/192_0_1203.jpg',\n",
       " 'warpaint/193_0_8261.jpg',\n",
       " 'warpaint/194_0_6312.jpg',\n",
       " 'warpaint/195_0_2130.jpg',\n",
       " 'warpaint/196_0_7926.jpg',\n",
       " 'warpaint/197_0_1021.jpg',\n",
       " 'warpaint/198_0_4942.jpg',\n",
       " 'warpaint/199_0_2461.jpg',\n",
       " 'warpaint/19_0_1416.jpg',\n",
       " 'warpaint/1_0_7059.jpg',\n",
       " 'warpaint/200_0_7434.jpg',\n",
       " 'warpaint/201_0_4261.jpg',\n",
       " 'warpaint/202_0_5362.jpg',\n",
       " 'warpaint/203_0_5735.jpg',\n",
       " 'warpaint/204_0_5233.jpg',\n",
       " 'warpaint/205_0_8781.jpg',\n",
       " 'warpaint/206_0_4372.jpg',\n",
       " 'warpaint/207_0_8253.jpg',\n",
       " 'warpaint/208_0_2793.jpg',\n",
       " 'warpaint/209_0_667.jpg',\n",
       " 'warpaint/20_0_8281.jpg',\n",
       " 'warpaint/210_0_1208.jpg',\n",
       " 'warpaint/211_0_6293.jpg',\n",
       " 'warpaint/212_0_8856.jpg',\n",
       " 'warpaint/213_0_614.jpg',\n",
       " 'warpaint/214_0_7161.jpg',\n",
       " 'warpaint/215_0_4355.jpg',\n",
       " 'warpaint/216_0_9230.jpg',\n",
       " 'warpaint/217_0_2983.jpg',\n",
       " 'warpaint/218_0_3510.jpg',\n",
       " 'warpaint/219_0_9089.jpg',\n",
       " 'warpaint/21_0_1838.jpg',\n",
       " 'warpaint/220_0_782.jpg',\n",
       " 'warpaint/221_0_8439.jpg',\n",
       " 'warpaint/222_0_9864.jpg',\n",
       " 'warpaint/223_0_5315.jpg',\n",
       " 'warpaint/224_0_334.jpg',\n",
       " 'warpaint/225_0_8427.jpg',\n",
       " 'warpaint/226_0_8915.jpg',\n",
       " 'warpaint/227_0_9115.jpg',\n",
       " 'warpaint/228_0_9774.jpg',\n",
       " 'warpaint/229_0_774.jpg',\n",
       " 'warpaint/22_0_659.jpg',\n",
       " 'warpaint/230_0_3244.jpg',\n",
       " 'warpaint/231_0_7483.jpg',\n",
       " 'warpaint/232_0_6183.jpg',\n",
       " 'warpaint/233_0_5442.jpg',\n",
       " 'warpaint/234_0_4960.jpg',\n",
       " 'warpaint/235_0_95.jpg',\n",
       " 'warpaint/236_0_7014.jpg',\n",
       " 'warpaint/237_0_8110.jpg',\n",
       " 'warpaint/238_0_2322.jpg',\n",
       " 'warpaint/239_0_5561.jpg',\n",
       " 'warpaint/23_0_5470.jpg',\n",
       " 'warpaint/240_0_720.jpg',\n",
       " 'warpaint/241_0_7919.jpg',\n",
       " 'warpaint/242_0_8268.jpg',\n",
       " 'warpaint/243_0_8541.jpg',\n",
       " 'warpaint/244_0_6731.jpg',\n",
       " 'warpaint/245_0_1769.jpg',\n",
       " 'warpaint/246_0_9099.jpg',\n",
       " 'warpaint/247_0_6623.jpg',\n",
       " 'warpaint/248_0_8079.jpg',\n",
       " 'warpaint/249_0_1179.jpg',\n",
       " 'warpaint/24_0_6260.jpg',\n",
       " 'warpaint/250_0_646.jpg',\n",
       " 'warpaint/251_0_6811.jpg',\n",
       " 'warpaint/252_0_9922.jpg',\n",
       " 'warpaint/253_0_9642.jpg',\n",
       " 'warpaint/254_0_7270.jpg',\n",
       " 'warpaint/255_0_4245.jpg',\n",
       " 'warpaint/256_0_3132.jpg',\n",
       " 'warpaint/257_0_2627.jpg',\n",
       " 'warpaint/258_0_3063.jpg',\n",
       " 'warpaint/259_0_4649.jpg',\n",
       " 'warpaint/25_0_2104.jpg',\n",
       " 'warpaint/260_0_9007.jpg',\n",
       " 'warpaint/261_0_2581.jpg',\n",
       " 'warpaint/262_0_3393.jpg',\n",
       " 'warpaint/263_0_1250.jpg',\n",
       " 'warpaint/264_0_6463.jpg',\n",
       " 'warpaint/265_0_7721.jpg',\n",
       " 'warpaint/266_0_5137.jpg',\n",
       " 'warpaint/267_0_3321.jpg',\n",
       " 'warpaint/268_0_247.jpg',\n",
       " 'warpaint/269_0_9276.jpg',\n",
       " 'warpaint/26_0_6784.jpg',\n",
       " 'warpaint/270_0_2468.jpg',\n",
       " 'warpaint/271_0_2566.jpg',\n",
       " 'warpaint/272_0_9143.jpg',\n",
       " 'warpaint/273_0_7534.jpg',\n",
       " 'warpaint/274_0_1353.jpg',\n",
       " 'warpaint/275_0_1268.jpg',\n",
       " 'warpaint/276_0_6597.jpg',\n",
       " 'warpaint/277_0_705.jpg',\n",
       " 'warpaint/278_0_4593.jpg',\n",
       " 'warpaint/279_0_4305.jpg',\n",
       " 'warpaint/27_0_5894.jpg',\n",
       " 'warpaint/280_0_7053.jpg',\n",
       " 'warpaint/281_0_2745.jpg',\n",
       " 'warpaint/282_0_715.jpg',\n",
       " 'warpaint/283_0_5608.jpg',\n",
       " 'warpaint/284_0_9808.jpg',\n",
       " 'warpaint/285_0_8290.jpg',\n",
       " 'warpaint/286_0_9194.jpg',\n",
       " 'warpaint/287_0_138.jpg',\n",
       " 'warpaint/288_0_2381.jpg',\n",
       " 'warpaint/289_0_9383.jpg',\n",
       " 'warpaint/28_0_5924.jpg',\n",
       " 'warpaint/290_0_8121.jpg',\n",
       " 'warpaint/291_0_7621.jpg',\n",
       " 'warpaint/292_0_4912.jpg',\n",
       " 'warpaint/293_0_8619.jpg',\n",
       " 'warpaint/294_0_9979.jpg',\n",
       " 'warpaint/295_0_6194.jpg',\n",
       " 'warpaint/296_0_2296.jpg',\n",
       " 'warpaint/297_0_470.jpg',\n",
       " 'warpaint/298_0_1871.jpg',\n",
       " 'warpaint/299_0_5124.jpg',\n",
       " 'warpaint/29_0_2215.jpg',\n",
       " 'warpaint/2_0_1452.jpg',\n",
       " 'warpaint/300_0_4084.jpg',\n",
       " 'warpaint/301_0_6416.jpg',\n",
       " 'warpaint/302_0_5614.jpg',\n",
       " 'warpaint/303_0_949.jpg',\n",
       " 'warpaint/304_0_4836.jpg',\n",
       " 'warpaint/305_0_2030.jpg',\n",
       " 'warpaint/306_0_2828.jpg',\n",
       " 'warpaint/307_0_5879.jpg',\n",
       " 'warpaint/308_0_1816.jpg',\n",
       " 'warpaint/309_0_5433.jpg',\n",
       " 'warpaint/30_0_9860.jpg',\n",
       " 'warpaint/310_0_2666.jpg',\n",
       " 'warpaint/311_0_1820.jpg',\n",
       " 'warpaint/312_0_3175.jpg',\n",
       " 'warpaint/313_0_2071.jpg',\n",
       " 'warpaint/314_0_3498.jpg',\n",
       " 'warpaint/315_0_9031.jpg',\n",
       " 'warpaint/316_0_3070.jpg',\n",
       " 'warpaint/317_0_7938.jpg',\n",
       " 'warpaint/318_0_4855.jpg',\n",
       " 'warpaint/319_0_2389.jpg',\n",
       " 'warpaint/31_0_6104.jpg',\n",
       " 'warpaint/320_0_4043.jpg',\n",
       " 'warpaint/321_0_9467.jpg',\n",
       " 'warpaint/322_0_6934.jpg',\n",
       " 'warpaint/323_0_4604.jpg',\n",
       " 'warpaint/324_0_4131.jpg',\n",
       " 'warpaint/325_0_2127.jpg',\n",
       " 'warpaint/326_0_7418.jpg',\n",
       " 'warpaint/327_0_2076.jpg',\n",
       " 'warpaint/328_0_8475.jpg',\n",
       " 'warpaint/329_0_6216.jpg',\n",
       " 'warpaint/32_0_6925.jpg',\n",
       " 'warpaint/330_0_2456.jpg',\n",
       " 'warpaint/331_0_1373.jpg',\n",
       " 'warpaint/332_0_2294.jpg',\n",
       " 'warpaint/333_0_4294.jpg',\n",
       " 'warpaint/334_0_3153.jpg',\n",
       " 'warpaint/335_0_6162.jpg',\n",
       " 'warpaint/336_0_3090.jpg',\n",
       " 'warpaint/337_0_3729.jpg',\n",
       " 'warpaint/338_0_2646.jpg',\n",
       " 'warpaint/339_0_5929.jpg',\n",
       " 'warpaint/33_0_9804.jpg',\n",
       " 'warpaint/340_0_6241.jpg',\n",
       " 'warpaint/341_0_7337.jpg',\n",
       " 'warpaint/342_0_9596.jpg',\n",
       " 'warpaint/343_0_1091.jpg',\n",
       " 'warpaint/344_0_8662.jpg',\n",
       " 'warpaint/345_0_124.jpg']"
      ]
     },
     "execution_count": 67,
     "metadata": {
      "tags": []
     },
     "output_type": "execute_result"
    }
   ],
   "source": [
    "valid.filenames[1700:2000]"
   ]
  },
  {
   "cell_type": "code",
   "execution_count": 0,
   "metadata": {
    "colab": {
     "base_uri": "https://localhost:8080/",
     "height": 193
    },
    "colab_type": "code",
    "executionInfo": {
     "elapsed": 1576,
     "status": "ok",
     "timestamp": 1566938908528,
     "user": {
      "displayName": "Omar Elkassar",
      "photoUrl": "",
      "userId": "10907009449006292917"
     },
     "user_tz": -120
    },
    "id": "cWl-3-7v3y5x",
    "outputId": "f175474f-163d-4026-d76f-e4e67249ddb5"
   },
   "outputs": [
    {
     "name": "stderr",
     "output_type": "stream",
     "text": [
      "WARNING: Logging before flag parsing goes to stderr.\n",
      "W0827 20:48:26.545305 140363342329728 deprecation_wrapper.py:119] From /usr/local/lib/python3.6/dist-packages/keras/backend/tensorflow_backend.py:74: The name tf.get_default_graph is deprecated. Please use tf.compat.v1.get_default_graph instead.\n",
      "\n",
      "W0827 20:48:26.586188 140363342329728 deprecation_wrapper.py:119] From /usr/local/lib/python3.6/dist-packages/keras/backend/tensorflow_backend.py:517: The name tf.placeholder is deprecated. Please use tf.compat.v1.placeholder instead.\n",
      "\n",
      "W0827 20:48:26.593258 140363342329728 deprecation_wrapper.py:119] From /usr/local/lib/python3.6/dist-packages/keras/backend/tensorflow_backend.py:4115: The name tf.random_normal is deprecated. Please use tf.random.normal instead.\n",
      "\n",
      "W0827 20:48:26.619369 140363342329728 deprecation_wrapper.py:119] From /usr/local/lib/python3.6/dist-packages/keras/backend/tensorflow_backend.py:3976: The name tf.nn.max_pool is deprecated. Please use tf.nn.max_pool2d instead.\n",
      "\n"
     ]
    }
   ],
   "source": [
    "model = Sequential()\n",
    "model.add(Conv2D(8,3,input_shape = (224,224,3),padding='same' , activation='relu' ,kernel_initializer =ini.RandomNormal(mean=0.0, stddev=0.004, seed=None)))\n",
    "model.add(MaxPooling2D())\n",
    "model.add(Conv2D(16,3,activation='relu',padding='same', kernel_initializer =ini.RandomNormal(mean=0.0, stddev=0.0004, seed=None)))\n",
    "model.add(MaxPooling2D())\n",
    "model.add(Conv2D(32,3,activation='relu', padding='same',kernel_initializer =ini.RandomNormal(mean=0.0, stddev=0.0004, seed=None)))\n",
    "model.add(MaxPooling2D())\n",
    "model.add(Conv2D(64,3,activation='relu', padding='same',kernel_initializer =ini.RandomNormal(mean=0.0, stddev=0.0004, seed=None)))\n",
    "model.add(MaxPooling2D())\n",
    "model.add(Conv2D(128,3,activation='relu', padding='same',kernel_initializer =ini.RandomNormal(mean=0.0, stddev=0.0004, seed=None)))\n",
    "model.add(MaxPooling2D())\n",
    "model.add(Conv2D(256,3,activation='relu', padding='same',kernel_initializer =ini.RandomNormal(mean=0.0, stddev=0.0004, seed=None)))\n",
    "model.add(MaxPooling2D())\n",
    "model.add(Flatten())\n",
    "model.add(Dense(8,activation='sigmoid' , kernel_initializer = ini.RandomNormal(mean=0.0, stddev=0.0004, seed=None)))"
   ]
  },
  {
   "cell_type": "code",
   "execution_count": 0,
   "metadata": {
    "colab": {
     "base_uri": "https://localhost:8080/",
     "height": 349
    },
    "colab_type": "code",
    "executionInfo": {
     "elapsed": 11709,
     "status": "ok",
     "timestamp": 1567499124651,
     "user": {
      "displayName": "Omar Elkassar",
      "photoUrl": "",
      "userId": "10907009449006292917"
     },
     "user_tz": -120
    },
    "id": "zQxfv8Ndz1YT",
    "outputId": "798fd0f0-8d0a-4560-d6e2-fd7a13781ca8"
   },
   "outputs": [
    {
     "name": "stderr",
     "output_type": "stream",
     "text": [
      "WARNING: Logging before flag parsing goes to stderr.\n",
      "W0903 08:25:11.861830 139683564963712 deprecation_wrapper.py:119] From /usr/local/lib/python3.6/dist-packages/keras/backend/tensorflow_backend.py:541: The name tf.placeholder is deprecated. Please use tf.compat.v1.placeholder instead.\n",
      "\n",
      "W0903 08:25:11.928065 139683564963712 deprecation_wrapper.py:119] From /usr/local/lib/python3.6/dist-packages/keras/backend/tensorflow_backend.py:4432: The name tf.random_uniform is deprecated. Please use tf.random.uniform instead.\n",
      "\n",
      "W0903 08:25:11.972999 139683564963712 deprecation_wrapper.py:119] From /usr/local/lib/python3.6/dist-packages/keras/backend/tensorflow_backend.py:4267: The name tf.nn.max_pool is deprecated. Please use tf.nn.max_pool2d instead.\n",
      "\n",
      "W0903 08:25:14.469908 139683564963712 deprecation_wrapper.py:119] From /usr/local/lib/python3.6/dist-packages/keras/backend/tensorflow_backend.py:190: The name tf.get_default_session is deprecated. Please use tf.compat.v1.get_default_session instead.\n",
      "\n",
      "W0903 08:25:14.471179 139683564963712 deprecation_wrapper.py:119] From /usr/local/lib/python3.6/dist-packages/keras/backend/tensorflow_backend.py:197: The name tf.ConfigProto is deprecated. Please use tf.compat.v1.ConfigProto instead.\n",
      "\n",
      "W0903 08:25:14.472482 139683564963712 deprecation_wrapper.py:119] From /usr/local/lib/python3.6/dist-packages/keras/backend/tensorflow_backend.py:203: The name tf.Session is deprecated. Please use tf.compat.v1.Session instead.\n",
      "\n",
      "W0903 08:25:18.546706 139683564963712 deprecation_wrapper.py:119] From /usr/local/lib/python3.6/dist-packages/keras/optimizers.py:793: The name tf.train.Optimizer is deprecated. Please use tf.compat.v1.train.Optimizer instead.\n",
      "\n",
      "W0903 08:25:18.670465 139683564963712 deprecation.py:323] From /usr/local/lib/python3.6/dist-packages/tensorflow/python/ops/math_grad.py:1250: add_dispatch_support.<locals>.wrapper (from tensorflow.python.ops.array_ops) is deprecated and will be removed in a future version.\n",
      "Instructions for updating:\n",
      "Use tf.where in 2.0, which has the same broadcast rule as np.where\n"
     ]
    }
   ],
   "source": [
    "mode = load_model('/gdrive/My Drive/scoly/coral_model_224_1.hdf5')"
   ]
  },
  {
   "cell_type": "code",
   "execution_count": 0,
   "metadata": {
    "colab": {},
    "colab_type": "code",
    "id": "3kZrLaDB3K0W"
   },
   "outputs": [],
   "source": [
    "vgg_weights = mode.layers[0].get_weights()\n",
    "dense_weights = mode.layers[1].get_weights()"
   ]
  },
  {
   "cell_type": "code",
   "execution_count": 0,
   "metadata": {
    "colab": {
     "base_uri": "https://localhost:8080/",
     "height": 228
    },
    "colab_type": "code",
    "executionInfo": {
     "elapsed": 1101,
     "status": "ok",
     "timestamp": 1567589760859,
     "user": {
      "displayName": "Omar Elkassar",
      "photoUrl": "",
      "userId": "10907009449006292917"
     },
     "user_tz": -120
    },
    "id": "5dPCrn4oYGzw",
    "outputId": "9b0f5918-36da-45ff-9093-dd45cb41bfbf"
   },
   "outputs": [
    {
     "name": "stderr",
     "output_type": "stream",
     "text": [
      "WARNING: Logging before flag parsing goes to stderr.\n",
      "W0904 09:35:59.283262 140135848163200 deprecation_wrapper.py:119] From /usr/local/lib/python3.6/dist-packages/keras/backend/tensorflow_backend.py:66: The name tf.get_default_graph is deprecated. Please use tf.compat.v1.get_default_graph instead.\n",
      "\n",
      "W0904 09:35:59.328266 140135848163200 deprecation_wrapper.py:119] From /usr/local/lib/python3.6/dist-packages/keras/backend/tensorflow_backend.py:541: The name tf.placeholder is deprecated. Please use tf.compat.v1.placeholder instead.\n",
      "\n",
      "W0904 09:35:59.336476 140135848163200 deprecation_wrapper.py:119] From /usr/local/lib/python3.6/dist-packages/keras/backend/tensorflow_backend.py:4432: The name tf.random_uniform is deprecated. Please use tf.random.uniform instead.\n",
      "\n",
      "W0904 09:35:59.385406 140135848163200 deprecation_wrapper.py:119] From /usr/local/lib/python3.6/dist-packages/keras/backend/tensorflow_backend.py:4267: The name tf.nn.max_pool is deprecated. Please use tf.nn.max_pool2d instead.\n",
      "\n",
      "W0904 09:35:59.735871 140135848163200 deprecation_wrapper.py:119] From /usr/local/lib/python3.6/dist-packages/keras/backend/tensorflow_backend.py:4409: The name tf.random_normal is deprecated. Please use tf.random.normal instead.\n",
      "\n"
     ]
    }
   ],
   "source": [
    "model1 = vgg.VGG19(weights=None,input_shape=(224,224,3),classes=8 , include_top=False, pooling = 'avg' )\n",
    "model = Sequential()\n",
    "model.add(model1)\n",
    "model.add(Dense(8,activation='softmax' , kernel_initializer = ini.RandomNormal(mean=0.0, stddev=0.0004, seed=None)))"
   ]
  },
  {
   "cell_type": "code",
   "execution_count": 0,
   "metadata": {
    "colab": {},
    "colab_type": "code",
    "id": "NRGCGQLunMWI"
   },
   "outputs": [],
   "source": [
    "model1 = vgg.VGG16(weights=None,input_shape=(224,224,3),classes=8 , include_top=False, pooling = 'avg' )\n",
    "model1.set_weights(vgg_weights)\n",
    "model = Sequential()\n",
    "model.add(model1)\n",
    "#model.add(Dense(8,activation='softmax' , kernel_initializer = ini.RandomNormal(mean=0.0, stddev=0.0004, seed=None)))\n",
    "l = Dense(8,activation='softmax')\n",
    "model.add(l)\n",
    "l.set_weights(dense_weights)"
   ]
  },
  {
   "cell_type": "code",
   "execution_count": 0,
   "metadata": {
    "colab": {
     "base_uri": "https://localhost:8080/",
     "height": 107
    },
    "colab_type": "code",
    "executionInfo": {
     "elapsed": 1399,
     "status": "ok",
     "timestamp": 1567589771710,
     "user": {
      "displayName": "Omar Elkassar",
      "photoUrl": "",
      "userId": "10907009449006292917"
     },
     "user_tz": -120
    },
    "id": "JpCiGef5s6WW",
    "outputId": "300b17e2-3aa2-4b80-cd95-519763d38bf2"
   },
   "outputs": [
    {
     "name": "stderr",
     "output_type": "stream",
     "text": [
      "W0904 09:36:09.893730 140135848163200 deprecation_wrapper.py:119] From /usr/local/lib/python3.6/dist-packages/keras/optimizers.py:793: The name tf.train.Optimizer is deprecated. Please use tf.compat.v1.train.Optimizer instead.\n",
      "\n",
      "W0904 09:36:09.904106 140135848163200 deprecation_wrapper.py:119] From /usr/local/lib/python3.6/dist-packages/keras/backend/tensorflow_backend.py:3576: The name tf.log is deprecated. Please use tf.math.log instead.\n",
      "\n"
     ]
    }
   ],
   "source": [
    "model.compile(loss='categorical_crossentropy' , optimizer=optimizers.Adam(lr=0.000005) , metrics=['accuracy'] )\n"
   ]
  },
  {
   "cell_type": "code",
   "execution_count": 0,
   "metadata": {
    "colab": {
     "base_uri": "https://localhost:8080/",
     "height": 141
    },
    "colab_type": "code",
    "executionInfo": {
     "elapsed": 1917,
     "status": "error",
     "timestamp": 1567544849283,
     "user": {
      "displayName": "Omar Elkassar",
      "photoUrl": "",
      "userId": "10907009449006292917"
     },
     "user_tz": -120
    },
    "id": "xMCmpNIN4Agc",
    "outputId": "3a9578f6-ef7f-4b44-cbaf-3c5bf545e099"
   },
   "outputs": [
    {
     "name": "stderr",
     "output_type": "stream",
     "text": [
      "W0904 09:36:30.081024 140135848163200 deprecation.py:323] From /usr/local/lib/python3.6/dist-packages/tensorflow/python/ops/math_grad.py:1250: add_dispatch_support.<locals>.wrapper (from tensorflow.python.ops.array_ops) is deprecated and will be removed in a future version.\n",
      "Instructions for updating:\n",
      "Use tf.where in 2.0, which has the same broadcast rule as np.where\n"
     ]
    },
    {
     "name": "stdout",
     "output_type": "stream",
     "text": [
      "Epoch 1/50\n"
     ]
    },
    {
     "name": "stderr",
     "output_type": "stream",
     "text": [
      "/usr/local/lib/python3.6/dist-packages/keras/utils/data_utils.py:610: UserWarning: The input 39 could not be retrieved. It could be because a worker has died.\n",
      "  UserWarning)\n"
     ]
    }
   ],
   "source": [
    "checkpointer = ModelCheckpoint(filepath='/gdrive/My Drive/scoly/coral_model_vgg19.hdf5',  mode = 'min', verbose=1, save_best_only=True)\n",
    "#model.compile(loss='categorical_crossentropy' , optimizer=optimizers.Adam(lr=0.000005) , metrics=['accuracy'] )\n",
    "model.fit_generator(train,steps_per_epoch=47 ,epochs= 50 , verbose = 2, validation_data = valid, callbacks=[checkpointer]  ,validation_steps = 21 )"
   ]
  },
  {
   "cell_type": "code",
   "execution_count": 0,
   "metadata": {
    "colab": {
     "base_uri": "https://localhost:8080/",
     "height": 176
    },
    "colab_type": "code",
    "executionInfo": {
     "elapsed": 10542,
     "status": "ok",
     "timestamp": 1567550531694,
     "user": {
      "displayName": "Omar Elkassar",
      "photoUrl": "",
      "userId": "10907009449006292917"
     },
     "user_tz": -120
    },
    "id": "YWJGQE608GVM",
    "outputId": "8d0cb8e5-b972-4b21-e1a0-44528015b8d1"
   },
   "outputs": [
    {
     "name": "stderr",
     "output_type": "stream",
     "text": [
      "WARNING: Logging before flag parsing goes to stderr.\n",
      "W0903 22:42:07.221585 140235052332928 deprecation.py:323] From /usr/local/lib/python3.6/dist-packages/tensorflow/lite/python/util.py:238: convert_variables_to_constants (from tensorflow.python.framework.graph_util_impl) is deprecated and will be removed in a future version.\n",
      "Instructions for updating:\n",
      "Use `tf.compat.v1.graph_util.convert_variables_to_constants`\n",
      "W0903 22:42:07.223128 140235052332928 deprecation.py:323] From /usr/local/lib/python3.6/dist-packages/tensorflow/python/framework/graph_util_impl.py:270: extract_sub_graph (from tensorflow.python.framework.graph_util_impl) is deprecated and will be removed in a future version.\n",
      "Instructions for updating:\n",
      "Use `tf.compat.v1.graph_util.extract_sub_graph`\n"
     ]
    },
    {
     "data": {
      "text/plain": [
       "58881568"
      ]
     },
     "execution_count": 4,
     "metadata": {
      "tags": []
     },
     "output_type": "execute_result"
    }
   ],
   "source": [
    "converter = tf.lite.TFLiteConverter.from_keras_model_file('./coral_model1.hdf5')\n",
    "tflite_model = converter.convert()\n",
    "open(\"./coral_model1.tflite\", \"wb\").write(tflite_model)"
   ]
  },
  {
   "cell_type": "code",
   "execution_count": 0,
   "metadata": {
    "colab": {},
    "colab_type": "code",
    "id": "IemWyVXoO7i-"
   },
   "outputs": [],
   "source": []
  }
 ],
 "metadata": {
  "accelerator": "GPU",
  "colab": {
   "collapsed_sections": [],
   "name": "coral.ipynb",
   "provenance": []
  },
  "kernelspec": {
   "display_name": "Python 3",
   "language": "python",
   "name": "python3"
  },
  "language_info": {
   "codemirror_mode": {
    "name": "ipython",
    "version": 3
   },
   "file_extension": ".py",
   "mimetype": "text/x-python",
   "name": "python",
   "nbconvert_exporter": "python",
   "pygments_lexer": "ipython3",
   "version": "3.7.3"
  }
 },
 "nbformat": 4,
 "nbformat_minor": 1
}
